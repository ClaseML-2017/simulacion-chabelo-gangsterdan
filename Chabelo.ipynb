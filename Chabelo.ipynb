{
 "cells": [
  {
   "cell_type": "markdown",
   "metadata": {},
   "source": [
    "## Chabelo\n",
    "\n",
    "1. 3 doors, 1 winning door, 1 is chosen by the contestant.\n",
    "2. Chabelo opens a door that's not the winning door and asks the contestant if he wants to switch doors\n",
    "3. The contestant chooses to change or not to change selected door.\n",
    "    \n",
    "Create a simulation to compare the win rate if the contestant switches doors or not.\n",
    "\n",
    "    rand.randint(n1, n2) #Where n1 <= random <= n2\n"
   ]
  },
  {
   "cell_type": "code",
   "execution_count": 107,
   "metadata": {},
   "outputs": [],
   "source": [
    "import random as rand"
   ]
  },
  {
   "cell_type": "code",
   "execution_count": 108,
   "metadata": {
    "collapsed": true
   },
   "outputs": [],
   "source": [
    "numSimulaciones = 1000"
   ]
  },
  {
   "cell_type": "code",
   "execution_count": 109,
   "metadata": {
    "collapsed": true
   },
   "outputs": [],
   "source": [
    "doors = [0,1,2]"
   ]
  },
  {
   "cell_type": "code",
   "execution_count": 110,
   "metadata": {},
   "outputs": [],
   "source": [
    "firstChoice = [rand.randint(0,2) for i in range(numSimulaciones)]"
   ]
  },
  {
   "cell_type": "code",
   "execution_count": 111,
   "metadata": {},
   "outputs": [],
   "source": [
    "prize = [rand.randint(0,2) for i in range(numSimulaciones)]"
   ]
  },
  {
   "cell_type": "code",
   "execution_count": 112,
   "metadata": {},
   "outputs": [],
   "source": [
    "host = []"
   ]
  },
  {
   "cell_type": "code",
   "execution_count": 113,
   "metadata": {},
   "outputs": [],
   "source": [
    "for i in range(numSimulaciones):\n",
    "    if firstChoice[i] == prize[i]:\n",
    "        doors.remove(firstChoice[i])\n",
    "        r = rand.randint(0,1)\n",
    "        x = doors[r]\n",
    "    else:\n",
    "        doors.remove(firstChoice[i])\n",
    "        doors.remove(prize[i])\n",
    "        x = doors[0]\n",
    "    \n",
    "    host.append(x)\n",
    "    doors = [0,1,2] #reponer las puertas para la sig iter.\n",
    "    "
   ]
  },
  {
   "cell_type": "code",
   "execution_count": 114,
   "metadata": {},
   "outputs": [
    {
     "data": {
      "text/plain": [
       "321.0"
      ]
     },
     "execution_count": 114,
     "metadata": {},
     "output_type": "execute_result"
    }
   ],
   "source": [
    "fcWin = 0.0\n",
    "for i in range(numSimulaciones):\n",
    "    if firstChoice[i] == prize[i]:\n",
    "        fcWin += 1\n",
    "fcWin"
   ]
  },
  {
   "cell_type": "markdown",
   "metadata": {},
   "source": [
    "We can also calculate the complement..."
   ]
  },
  {
   "cell_type": "code",
   "execution_count": 115,
   "metadata": {},
   "outputs": [
    {
     "data": {
      "text/plain": [
       "679.0"
      ]
     },
     "execution_count": 115,
     "metadata": {},
     "output_type": "execute_result"
    }
   ],
   "source": [
    "changeWin = 0.0\n",
    "for i in range(numSimulaciones):\n",
    "    if firstChoice[i] != prize[i]:\n",
    "        changeWin += 1\n",
    "changeWin"
   ]
  },
  {
   "cell_type": "code",
   "execution_count": 116,
   "metadata": {},
   "outputs": [
    {
     "name": "stdout",
     "output_type": "stream",
     "text": [
      "Probability of winning by staying: \n"
     ]
    },
    {
     "data": {
      "text/plain": [
       "0.321"
      ]
     },
     "execution_count": 116,
     "metadata": {},
     "output_type": "execute_result"
    }
   ],
   "source": [
    "print 'Probability of winning by staying: '\n",
    "fcWin/numSimulaciones"
   ]
  },
  {
   "cell_type": "code",
   "execution_count": 117,
   "metadata": {},
   "outputs": [
    {
     "name": "stdout",
     "output_type": "stream",
     "text": [
      "Probability of winning by changing: \n"
     ]
    },
    {
     "data": {
      "text/plain": [
       "0.679"
      ]
     },
     "execution_count": 117,
     "metadata": {},
     "output_type": "execute_result"
    }
   ],
   "source": [
    "print 'Probability of winning by changing: '\n",
    "changeWin/numSimulaciones"
   ]
  }
 ],
 "metadata": {
  "kernelspec": {
   "display_name": "Python 2",
   "language": "python",
   "name": "python2"
  },
  "language_info": {
   "codemirror_mode": {
    "name": "ipython",
    "version": 2
   },
   "file_extension": ".py",
   "mimetype": "text/x-python",
   "name": "python",
   "nbconvert_exporter": "python",
   "pygments_lexer": "ipython2",
   "version": "2.7.13"
  }
 },
 "nbformat": 4,
 "nbformat_minor": 1
}
